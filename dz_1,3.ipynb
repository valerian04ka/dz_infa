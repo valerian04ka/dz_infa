{
 "cells": [
  {
   "cell_type": "markdown",
   "metadata": {},
   "source": [
    "Эйлеров путь"
   ]
  },
  {
   "cell_type": "code",
   "execution_count": 3,
   "metadata": {},
   "outputs": [
    {
     "name": "stdout",
     "output_type": "stream",
     "text": [
      "Граф не содержит эйлеров путь\n"
     ]
    }
   ],
   "source": [
    "# проверка вершин графа на четность\n",
    "def is_eulerian(graph):\n",
    "    odd_nodes = 0\n",
    "    for node in graph: \n",
    "        degree = len(graph[node]) # считает степень по количеству соседей(длине списка)\n",
    "        if degree % 2 != 0:\n",
    "            odd_nodes += 1\n",
    "    return odd_nodes <= 2\n",
    "#поиск эйлерова пути\n",
    "def eulerian_path(graph):\n",
    "    if not is_eulerian(graph):\n",
    "        return None\n",
    "\n",
    "    stack = [list(graph.keys())[0]] #выбор первой вершина в графе\n",
    "    path = []\n",
    "    while stack:\n",
    "        current = stack[-1]\n",
    "        if graph.get(current): #проверка на необработанных соседей\n",
    "            neighbor = graph[current].pop()\n",
    "            if current in graph[neighbor]: #проверка на неориентированность\n",
    "                graph[neighbor].remove(current)\n",
    "            stack.append(neighbor) #добавляет соседа в стэк и начинает обход с него \n",
    "        else:\n",
    "            path.append(stack.pop()) #у вершины больше не осталось соседей и вершина добавляется в путь\n",
    "    return path[::-1]\n",
    "\n",
    "G = {0:{1,2},1:{0,2,3},2:{0,1,4,5},3:{1,4},4:{2,3,5},5:{2,4,6},6:{5}}\n",
    "\n",
    "path = eulerian_path(G) \n",
    "if path:\n",
    "    print(path)\n",
    "else:\n",
    "    print(\"Граф не содержит эйлеров путь\")"
   ]
  },
  {
   "cell_type": "markdown",
   "metadata": {},
   "source": [
    "Банкомат"
   ]
  },
  {
   "cell_type": "code",
   "execution_count": null,
   "metadata": {},
   "outputs": [],
   "source": [
    "import math\n",
    "M = int(input())\n",
    "G = {}\n",
    "\n",
    "for i in range(M):\n",
    "    v1, v2, w = input().split()\n",
    "    w = float(w)\n",
    "    if v1 in G:\n",
    "        G[v1][v2] = w\n",
    "    else:\n",
    "        G[v1] = {v2: w}\n",
    "def rich(graph):\n",
    "    def bellman_ford(G, start): #ищет кратчайший путь\n",
    "        d = {i: float('inf') for i in G}\n",
    "        d[start] = 0\n",
    "        for i in range(len(G) - 1):\n",
    "            for node1 in G:\n",
    "                for node2 in G[node1]: \n",
    "                    if d[node2] > d[node1] + G[node1][node2]:\n",
    "                        d[node2] = d[node1] + G[node1][node2]\n",
    "                        \n",
    "        #проверка на отрицательные циклы. после того, как алгоритм Беллмана-Форда выполнил V-1 шагов,\n",
    "        #если расстояние уменьшается,то есть отрицательный цикл.\n",
    "        for node1 in G:\n",
    "            for node2  in G[node1]:\n",
    "                if d[node2] > d[node1] + G[node1][node2]:\n",
    "                    return True\n",
    "\n",
    "        return False\n",
    "    \n",
    "#перевод в логартфмическую форму\n",
    "    for cur1 in graph:\n",
    "        for cur2 in graph[cur1]:\n",
    "            graph[cur1][cur2] = -math.log(graph[cur1][cur2]) \n",
    "            # * -1 т.к. алгоритм Беллмана-Форда ищет кратчайшие пути, а нам нужны отрицательные цикды (бесконечные деньги)\n",
    "    # проверяем на наличине отрецательного цикла\n",
    "    for start in graph:\n",
    "        if bellman_ford(graph, start):\n",
    "            return True\n",
    "\n",
    "    return False\n",
    "\n",
    "if rich(G):\n",
    "    print(\"yes\")\n",
    "else:\n",
    "    print(\"no\")"
   ]
  }
 ],
 "metadata": {
  "kernelspec": {
   "display_name": "Python 3",
   "language": "python",
   "name": "python3"
  },
  "language_info": {
   "codemirror_mode": {
    "name": "ipython",
    "version": 3
   },
   "file_extension": ".py",
   "mimetype": "text/x-python",
   "name": "python",
   "nbconvert_exporter": "python",
   "pygments_lexer": "ipython3",
   "version": "3.11.9"
  }
 },
 "nbformat": 4,
 "nbformat_minor": 2
}
