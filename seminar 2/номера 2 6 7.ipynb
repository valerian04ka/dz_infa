{
 "cells": [
  {
   "cell_type": "markdown",
   "metadata": {},
   "source": [
    "Упражнение 2. Групповое обращение"
   ]
  },
  {
   "cell_type": "code",
   "execution_count": 2,
   "metadata": {},
   "outputs": [],
   "source": [
    "g = input().split()\n",
    "s = input().split()\n",
    "g = int(g)\n",
    "s = list(s)\n",
    "res = []\n",
    "for i in range(0,len(s),g):\n",
    "    res += s[i::i+g][::-1]\n",
    "print (''.goin(res))\n",
    "\n"
   ]
  },
  {
   "cell_type": "markdown",
   "metadata": {},
   "source": [
    "Упражнение 6. Уникальные элементы"
   ]
  },
  {
   "cell_type": "code",
   "execution_count": 1,
   "metadata": {},
   "outputs": [
    {
     "name": "stdout",
     "output_type": "stream",
     "text": [
      "1 "
     ]
    }
   ],
   "source": [
    "a = input().split()\n",
    "for i in range(len(a)):\n",
    "    if a.count(a[i]) == 1:\n",
    "        print(a[i], end = ' ')"
   ]
  },
  {
   "cell_type": "markdown",
   "metadata": {},
   "source": [
    "Упражнение 7. Самое частое число"
   ]
  },
  {
   "cell_type": "code",
   "execution_count": 2,
   "metadata": {},
   "outputs": [
    {
     "name": "stdout",
     "output_type": "stream",
     "text": [
      "4\n"
     ]
    }
   ],
   "source": [
    "a = input().split()\n",
    "f = 0\n",
    "c = 0\n",
    "for i in range (len(a)):\n",
    "    if a.count(a[i])>c:\n",
    "        c = a.count(a[i])\n",
    "        f = i\n",
    "print(a[f])\n"
   ]
  }
 ],
 "metadata": {
  "kernelspec": {
   "display_name": "Python 3",
   "language": "python",
   "name": "python3"
  },
  "language_info": {
   "codemirror_mode": {
    "name": "ipython",
    "version": 3
   },
   "file_extension": ".py",
   "mimetype": "text/x-python",
   "name": "python",
   "nbconvert_exporter": "python",
   "pygments_lexer": "ipython3",
   "version": "3.11.9"
  }
 },
 "nbformat": 4,
 "nbformat_minor": 2
}
