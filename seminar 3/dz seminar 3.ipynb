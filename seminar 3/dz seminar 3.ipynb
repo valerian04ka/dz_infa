{
 "cells": [
  {
   "cell_type": "markdown",
   "metadata": {},
   "source": [
    "коэф. мнк"
   ]
  },
  {
   "cell_type": "code",
   "execution_count": null,
   "metadata": {},
   "outputs": [],
   "source": [
    "import numpy as np\n",
    "print(np.__version__)\n",
    "def mnk(x,y):\n",
    "    x=np.array(x)\n",
    "    x=np.array(x)\n",
    "    a = (x*y).mean() - x.mean()*y.mean() - x.mean()**2\n",
    "    b = y/mean() - a*x.mean()\n",
    "    return(a,b)\n",
    "x = [1,2,3,4,5]\n",
    "y = [2,3,5,6,7]\n",
    "print(mnk(x,y))\n"
   ]
  },
  {
   "cell_type": "markdown",
   "metadata": {},
   "source": [
    "упр 3"
   ]
  },
  {
   "cell_type": "code",
   "execution_count": null,
   "metadata": {},
   "outputs": [],
   "source": [
    "a = int(input())\n",
    "b = int(input())\n",
    "\n",
    "def extended_gcd(a, b):\n",
    "    if b == 0:\n",
    "        return a, 1, 0\n",
    "    else:\n",
    "        gcd, x1, y1 = extended_gcd(b, a % b)\n",
    "        x = y1\n",
    "        y = x1 - (a // b) * y1\n",
    "        return gcd, x, y\n",
    "d, x, y = extended_gcd(a, b)\n",
    "print(d, x, y)\n"
   ]
  },
  {
   "cell_type": "markdown",
   "metadata": {},
   "source": [
    "упр 7"
   ]
  },
  {
   "cell_type": "code",
   "execution_count": null,
   "metadata": {},
   "outputs": [],
   "source": [
    "import numpy as np\n",
    "\n",
    "\n",
    "    \n",
    "def m(N,M):\n",
    "    a = []\n",
    "    for _ in range (N):\n",
    "        u = list(map(int, input().split()))\n",
    "        a.append(u)\n",
    "    a = np.array(a)\n",
    "    \n",
    "    x = a[:, :-1] \n",
    "    b = a[:, -1]\n",
    "    print(np.linalg.solve(x,b))\n",
    "   \n",
    "        \n",
    "if __name__ == \"__main__\":\n",
    "    N = int(input())\n",
    "    M = int(input())\n",
    "    \n",
    "    m(N,M)\n"
   ]
  },
  {
   "cell_type": "markdown",
   "metadata": {},
   "source": [
    "упр 1"
   ]
  },
  {
   "cell_type": "code",
   "execution_count": null,
   "metadata": {},
   "outputs": [],
   "source": [
    "def fib(n , c={0:0,1:1}):\n",
    "    if n in c:\n",
    "          return c[n]\n",
    "    c[n]= fib(n-1)+fib(n-2)\n",
    "    return c[n]\n",
    "print(fib(100))"
   ]
  },
  {
   "cell_type": "markdown",
   "metadata": {},
   "source": [
    "упр 2"
   ]
  },
  {
   "cell_type": "code",
   "execution_count": null,
   "metadata": {},
   "outputs": [],
   "source": [
    "n = int(input())\n",
    "for i in range(2, n):\n",
    "    if n % i == 0:\n",
    "        print(i)\n",
    "        n = n/i\n",
    "else: n = n \n",
    "\n",
    "        "
   ]
  },
  {
   "cell_type": "markdown",
   "metadata": {},
   "source": [
    "упр 4"
   ]
  },
  {
   "cell_type": "code",
   "execution_count": null,
   "metadata": {},
   "outputs": [],
   "source": [
    "def triangle(size,symb):\n",
    "    i = 1\n",
    "    while (i < size/2):\n",
    "        print(i+symb)\n",
    "    if i == size/2:\n",
    "        print(i+symb)\n",
    "    while (i >= 1):\n",
    "        print(i+symb)\n"
   ]
  },
  {
   "cell_type": "markdown",
   "metadata": {},
   "source": [
    "упр 5"
   ]
  },
  {
   "cell_type": "code",
   "execution_count": null,
   "metadata": {},
   "outputs": [],
   "source": [
    "import numpy as np\n",
    "def spiral(n,m):\n",
    "    A = np.zeros((n,m))\n",
    "    a , i , j = 1 , 0 , 0\n",
    "    while (a < m*n):\n",
    "            while (j+1 < m and A[i][j+1]==0 ):\n",
    "                A[i][j] = a\n",
    "                a += 1\n",
    "                j += 1\n",
    "            while(i+1 < n and A[i+1][j]==0 ):   \n",
    "                A[i][j] = a\n",
    "                a += 1\n",
    "                i += 1 \n",
    "            while (j > 0 and A[i][j-1]==0 ):\n",
    "                A[i][j] = a\n",
    "                a += 1\n",
    "                j -= 1\n",
    "            while(i > 0 and A[i-1][j]==0 ):   \n",
    "                A[i][j] = a\n",
    "                a += 1\n",
    "                i -= 1 \n",
    "    A[i][j] = a\n",
    "    return A\n",
    "print(spiral(6,7))  "
   ]
  }
 ],
 "metadata": {
  "kernelspec": {
   "display_name": "Python 3",
   "language": "python",
   "name": "python3"
  },
  "language_info": {
   "name": "python",
   "version": "3.11.9"
  }
 },
 "nbformat": 4,
 "nbformat_minor": 2
}
