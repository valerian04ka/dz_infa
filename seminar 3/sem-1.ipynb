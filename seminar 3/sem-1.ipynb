{
 "cells": [
  {
   "cell_type": "code",
   "execution_count": 1,
   "metadata": {},
   "outputs": [
    {
     "name": "stdout",
     "output_type": "stream",
     "text": [
      "354224848179261915075\n"
     ]
    }
   ],
   "source": [
    "def fib(n , c={0:0,1:1}):\n",
    "    if n in c:\n",
    "          return c[n]\n",
    "    c[n]= fib(n-1)+fib(n-2)\n",
    "    return c[n]\n",
    "print(fib(100))"
   ]
  },
  {
   "cell_type": "markdown",
   "metadata": {},
   "source": []
  },
  {
   "cell_type": "code",
   "execution_count": 25,
   "metadata": {},
   "outputs": [
    {
     "name": "stdout",
     "output_type": "stream",
     "text": [
      "2\n",
      "3\n",
      "4\n",
      "8\n",
      "643\n"
     ]
    }
   ],
   "source": [
    "n = int(input())\n",
    "for i in range(2, n):\n",
    "    if n % i == 0:\n",
    "        print(i)\n",
    "        n = n/i\n",
    "else: n = n \n",
    "\n",
    "        \n",
    "            "
   ]
  },
  {
   "cell_type": "code",
   "execution_count": 39,
   "metadata": {},
   "outputs": [],
   "source": [
    "def triangle(size,symb):\n",
    "    i = 1\n",
    "    while (i < size/2):\n",
    "        print(i+symb)\n",
    "    if i == size/2:\n",
    "        print(i+symb)\n",
    "    while (i >= 1):\n",
    "        print(i+symb)\n",
    "\n"
   ]
  },
  {
   "cell_type": "code",
   "execution_count": 45,
   "metadata": {},
   "outputs": [],
   "source": [
    "size = int(input())\n",
    "symb = str(input())\n",
    "def triangle(size,symb,cur = 1):\n",
    "    if size == 0:\n",
    "        return\n",
    "    print(min(cur,size)*symb)\n",
    "    triangle(size-1,symb,cur+1)\n"
   ]
  },
  {
   "cell_type": "code",
   "execution_count": 4,
   "metadata": {},
   "outputs": [
    {
     "name": "stdout",
     "output_type": "stream",
     "text": [
      "(np.float64(0.28888888888888886), np.float64(3.733333333333333))\n"
     ]
    }
   ],
   "source": [
    "import numpy as np\n",
    "def mnk(x,y):\n",
    "    x = np.array(x)\n",
    "    y = np.array(y)\n",
    "    a = ((x*y).mean() - x.mean()*y.mean()) / x.mean()**2\n",
    "    b = y.mean() - a*x.mean()\n",
    "    return a,b\n",
    "x = [1,2,3,4,5]\n",
    "y = [2,3,5,6,7]\n",
    "print(mnk(x,y))\n"
   ]
  },
  {
   "cell_type": "code",
   "execution_count": 13,
   "metadata": {},
   "outputs": [
    {
     "name": "stdout",
     "output_type": "stream",
     "text": [
      "[[ 1.  2.  3.  4.  5.  6.  7.]\n",
      " [22. 23. 24. 25. 26. 27.  8.]\n",
      " [21. 36. 37. 38. 39. 28.  9.]\n",
      " [20. 35. 42. 41. 40. 29. 10.]\n",
      " [19. 34. 33. 32. 31. 30. 11.]\n",
      " [18. 17. 16. 15. 14. 13. 12.]]\n"
     ]
    }
   ],
   "source": [
    "import numpy as np\n",
    "def spiral(n,m):\n",
    "    A = np.zeros((n,m))\n",
    "    a , i , j = 1 , 0 , 0\n",
    "    while (a < m*n):\n",
    "            while (j+1 < m and A[i][j+1]==0 ):\n",
    "                A[i][j] = a\n",
    "                a += 1\n",
    "                j += 1\n",
    "            while(i+1 < n and A[i+1][j]==0 ):   \n",
    "                A[i][j] = a\n",
    "                a += 1\n",
    "                i += 1 \n",
    "            while (j > 0 and A[i][j-1]==0 ):\n",
    "                A[i][j] = a\n",
    "                a += 1\n",
    "                j -= 1\n",
    "            while(i > 0 and A[i-1][j]==0 ):   \n",
    "                A[i][j] = a\n",
    "                a += 1\n",
    "                i -= 1 \n",
    "    A[i][j] = a\n",
    "    return A\n",
    "print(spiral(6,7))       \n",
    "            \n",
    "            \n",
    "    "
   ]
  },
  {
   "cell_type": "code",
   "execution_count": 6,
   "metadata": {},
   "outputs": [
    {
     "name": "stdout",
     "output_type": "stream",
     "text": [
      "1 2 \n",
      "3 4 \n"
     ]
    }
   ],
   "source": [
    "import numpy as np\n",
    "n = int(input())\n",
    "m = int(input())\n",
    "d = []\n",
    "for i in range(n):\n",
    "   d.append([input() for _ in range(m)])\n",
    "\n",
    "for i in range(n):\n",
    "   for j in range(m):\n",
    "      print(d[i][j], end=' ')\n",
    "   print()    \n",
    "\n",
    "\n"
   ]
  }
 ],
 "metadata": {
  "kernelspec": {
   "display_name": "Python 3",
   "language": "python",
   "name": "python3"
  },
  "language_info": {
   "codemirror_mode": {
    "name": "ipython",
    "version": 3
   },
   "file_extension": ".py",
   "mimetype": "text/x-python",
   "name": "python",
   "nbconvert_exporter": "python",
   "pygments_lexer": "ipython3",
   "version": "3.11.9"
  }
 },
 "nbformat": 4,
 "nbformat_minor": 2
}
