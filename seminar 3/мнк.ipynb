{
 "cells": [
  {
   "cell_type": "code",
   "execution_count": null,
   "metadata": {},
   "outputs": [],
   "source": [
    "import numpy as np\n",
    "print(np.__version__)\n",
    "def mnk(x,y):\n",
    "    x=np.array(x)\n",
    "    x=np.array(x)\n",
    "    a = (x*y).mean() - x.mean()*y.mean() - x.mean()**2\n",
    "    b = y/mean() - a*x.mean()\n",
    "    return(a,b)\n",
    "x = [1,2,3,4,5]\n",
    "y = [2,3,5,6,7]\n",
    "print(mnk(x,y))\n"
   ]
  },
  {
   "cell_type": "code",
   "execution_count": null,
   "metadata": {},
   "outputs": [],
   "source": []
  }
 ],
 "metadata": {
  "kernelspec": {
   "display_name": "Python 3",
   "language": "python",
   "name": "python3"
  },
  "language_info": {
   "name": "python",
   "version": "3.11.9"
  }
 },
 "nbformat": 4,
 "nbformat_minor": 2
}
